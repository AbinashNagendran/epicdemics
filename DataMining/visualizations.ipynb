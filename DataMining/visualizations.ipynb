{
 "cells": [
  {
   "cell_type": "markdown",
   "metadata": {},
   "source": [
    "# "
   ]
  },
  {
   "cell_type": "code",
   "execution_count": 1,
   "metadata": {},
   "outputs": [
    {
     "name": "stderr",
     "output_type": "stream",
     "text": [
      "/tmp/ipykernel_215975/653848720.py:7: DtypeWarning: Columns (28,29) have mixed types. Specify dtype option on import or set low_memory=False.\n",
      "  data = pd.read_csv(\"../Data/FID/VIW_FID_EPI.csv\")\n"
     ]
    }
   ],
   "source": [
    "import pandas as pd \n",
    "import numpy as np  \n",
    "import matplotlib.pyplot as plt\n",
    "import seaborn as sns\n",
    "\n",
    "# loading data \n",
    "data = pd.read_csv(\"../Data/FID/VIW_FID_EPI.csv\")"
   ]
  },
  {
   "cell_type": "code",
   "execution_count": null,
   "metadata": {},
   "outputs": [],
   "source": [
    "print(data.head(20))"
   ]
  },
  {
   "cell_type": "code",
   "execution_count": null,
   "metadata": {},
   "outputs": [],
   "source": [
    "def piechartcol(targetcol : str):    \n",
    "    # encode the categorical data\n",
    "    categories = data[targetcol].unique()\n",
    "    values = []\n",
    "    catvalseries = data[targetcol].value_counts()\n",
    "    \n",
    "    for category in categories:\n",
    "        values.append(catvalseries.get(category))\n",
    "    \n",
    "    def func(pct, allvals):\n",
    "        absolute = int(np.round(pct/100.*np.sum(allvals)))\n",
    "        return f\"{pct:.1f}%\\n({absolute:d})\"\n",
    "    \n",
    "    print(categories)\n",
    "    print(values[0])\n",
    "    plt.pie(values, labels=categories, autopct=lambda pct: func(pct, values))"
   ]
  },
  {
   "cell_type": "code",
   "execution_count": null,
   "metadata": {},
   "outputs": [],
   "source": [
    "piechartcol(\"WHOREGION\")"
   ]
  },
  {
   "cell_type": "markdown",
   "metadata": {},
   "source": [
    "# "
   ]
  },
  {
   "cell_type": "code",
   "execution_count": 4,
   "metadata": {},
   "outputs": [],
   "source": [
    "def cat_num_compare(catcol : str, numcol :str):\n",
    "    print(data[catcol].unique())\n",
    "    rdict = dict()\n",
    "    for i,row in data.iterrows():\n",
    "        if not (str(row[catcol]) in rdict.keys()):\n",
    "            rdict[str(row[catcol])] = 0\n",
    "        if not (np.isnan(row[numcol])):\n",
    "            rdict[str(row[catcol])] += int(row[numcol])\n",
    "    print(list(rdict.keys())[0])\n",
    "    print(type(list(rdict.keys())[0]))\n",
    "    print(list(rdict.values())[0])\n",
    "    print(type(list(rdict.values())[0]))\n",
    "\n",
    "    goodx = []\n",
    "    goody = []\n",
    "    for k,v in rdict.items():\n",
    "        if v == 0:\n",
    "            continue\n",
    "        goodx.append(k)\n",
    "        goody.append(v)\n",
    "        print(f\"{k} : {v}\")\n",
    "    plt.bar(goodx, goody)"
   ]
  },
  {
   "cell_type": "code",
   "execution_count": null,
   "metadata": {},
   "outputs": [
    {
     "name": "stdout",
     "output_type": "stream",
     "text": [
      "['0TO1' '15TO49' 'ALL' '2TO4' '50TO64' '65TO' 'UNKNOWN' 'All' '5TO14'\n",
      " '15TO24' '45TO54' '35TO44' '0TO0' '55TO64' '25TO34' '5TO9' '10TO14'\n",
      " '1TO4' '20TO34' '65TO69' '35TO49' '15TO19' '0.1TO0.9' '50TO' '0TO0.1'\n",
      " '3TO4' '70TO' '15TO' '18TO19' '15TO17' '50TO59' '60TO69' '25TO49'\n",
      " '25TO59' '60TO' '0TO5' '12TO17' '6TO11' '18TO' '66TO' '19TO65' '2TO5'\n",
      " '6TO18' '6TO15' '1TO5' '45TO' '16TO24' '0TO4' '5TO24' '25TO44' '5TO'\n",
      " '20TO64' '5TO19' '20TO44' '45TO64' '15TO44' '1TO1' '40TO59' '20TO39'\n",
      " '15TO54' '0TO0.24' '5TO17' '18TO64' '0.25TO0.4' '0.5TO0.9' '20TO24'\n",
      " '60TO64' '0TO0.4' '35TO64' '15TO34' '15TO59' '10TO19' '40TO44' '55TO59'\n",
      " '30TO34' '45TO49' '25TO29' '35TO39' '50TO54' '5TO59' '20TO59' '10TO20'\n",
      " '21TO59' '40TO49' '30TO39' '20TO29' '19TO24' '5TO11' '12TO18' '20TO49'\n",
      " '18TO65' '2TO17' '65TO74' '75TO' '6TO12' '13TO45' '46TO60' '15TO64'\n",
      " '15TO29' '30TO64' '65TO79' '80TO' nan '25TO39' '15TO15' '30TO44']\n"
     ]
    }
   ],
   "source": [
    "cat_num_compare( \"AGEGROUP_CODE\", \"ILI_CASE\")"
   ]
  },
  {
   "cell_type": "code",
   "execution_count": null,
   "metadata": {},
   "outputs": [],
   "source": []
  }
 ],
 "metadata": {
  "kernelspec": {
   "display_name": "Python 3 (ipykernel)",
   "language": "python",
   "name": "python3"
  },
  "language_info": {
   "codemirror_mode": {
    "name": "ipython",
    "version": 3
   },
   "file_extension": ".py",
   "mimetype": "text/x-python",
   "name": "python",
   "nbconvert_exporter": "python",
   "pygments_lexer": "ipython3",
   "version": "3.10.12"
  }
 },
 "nbformat": 4,
 "nbformat_minor": 4
}
