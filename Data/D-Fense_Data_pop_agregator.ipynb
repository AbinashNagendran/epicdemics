{
 "cells": [
  {
   "cell_type": "code",
   "execution_count": 44,
   "metadata": {},
   "outputs": [
    {
     "name": "stdout",
     "output_type": "stream",
     "text": [
      "True\n"
     ]
    }
   ],
   "source": [
    "import pandas as pd\n",
    "import os\n",
    "path = r\"D-FENSE\\processed_data\\regic2018.csv\"\n",
    "print(os.path.exists(path))\n",
    "\n",
    "df_population = pd.read_csv(\"D-FENSE\\processed_data\\IBGE_POPTCU.csv\")\n",
    "df_muni = pd.read_csv(r\"D-FENSE\\processed_data\\regic2018.csv\", sep=';')\n",
    "\n"
   ]
  },
  {
   "cell_type": "code",
   "execution_count": 45,
   "metadata": {},
   "outputs": [],
   "source": [
    "# creating the mapping geocodes to UFs zip combines columns as lists into one lists of tuples and then we make a dictionary out of it\n",
    "mapping = dict(zip(df_muni[\"geocode\"], df_muni[\"UF\"]))\n",
    "#print(mapping)"
   ]
  },
  {
   "cell_type": "code",
   "execution_count": 46,
   "metadata": {},
   "outputs": [],
   "source": [
    "# replace everything based on the mapping ie replace all keys with its value\n",
    "df_population['MUNIC_RES'] = df_population['MUNIC_RES'].replace(mapping)\n",
    "\n",
    "#  filter data using df_population[...] any false values in the column MUNIC_RES gone\n",
    "# .apply to make a function that takes column element x and checks if its integer type, \n",
    "# if true we want it deleted (make false using negation sign ~)\n",
    "df_population = df_population[~df_population['MUNIC_RES'].apply(lambda x: isinstance(x, int))]\n",
    "\n",
    "# write the new stuff into the new csv\n",
    "df_population.to_csv(r\"D-FENSE\\processed_data\\updated_population.csv\", index=False)\n",
    "# after doing this some of the rows have not changed, it was not a vaild UF, we delete them with the command above this"
   ]
  },
  {
   "cell_type": "code",
   "execution_count": 48,
   "metadata": {},
   "outputs": [
    {
     "name": "stdout",
     "output_type": "stream",
     "text": [
      "    MUNIC_RES   ANO  POPULACAO\n",
      "0          AC  1992     420436\n",
      "1          AC  1993     429770\n",
      "2          AC  1994     438619\n",
      "3          AC  1995     447249\n",
      "4          AC  1997     490522\n",
      "..        ...   ...        ...\n",
      "778        TO  2017    1509155\n",
      "779        TO  2018    1514149\n",
      "780        TO  2019    1531407\n",
      "781        TO  2020    1548415\n",
      "782        TO  2021    1565162\n",
      "\n",
      "[783 rows x 3 columns]\n"
     ]
    }
   ],
   "source": [
    "# find population now start reading from new cleaned file\n",
    "df_population_v2 = pd.read_csv(r\"D-FENSE\\processed_data\\updated_population.csv\")\n",
    "\n",
    "# group columns MUNIC_RES and ANO and sum each group of their population (POPULACAO) then reset_index to reset multiindex and \n",
    "# convert the groups into regular columns again\n",
    "population_by_UF_year = df_population_v2.groupby(['MUNIC_RES', 'ANO'])['POPULACAO'].sum().reset_index()\n",
    "\n",
    "\n",
    "population_by_UF_year.to_csv('D-FENSE\\population_by_UF_year.csv', index=False)\n",
    "print(population_by_UF_year)\n"
   ]
  }
 ],
 "metadata": {
  "kernelspec": {
   "display_name": "Python 3",
   "language": "python",
   "name": "python3"
  },
  "language_info": {
   "codemirror_mode": {
    "name": "ipython",
    "version": 3
   },
   "file_extension": ".py",
   "mimetype": "text/x-python",
   "name": "python",
   "nbconvert_exporter": "python",
   "pygments_lexer": "ipython3",
   "version": "3.11.9"
  }
 },
 "nbformat": 4,
 "nbformat_minor": 2
}
